{
 "cells": [
  {
   "cell_type": "markdown",
   "metadata": {},
   "source": [
    "# Code handout - Assignment 6 - Hovering mass"
   ]
  },
  {
   "cell_type": "markdown",
   "metadata": {},
   "source": [
    "First, we define our imports.\n",
    "In this assignment, we will only need `SymPy`, as all we're going to do is symbolics."
   ]
  },
  {
   "cell_type": "code",
   "execution_count": 20,
   "metadata": {},
   "outputs": [],
   "source": [
    "import sympy as sm\n",
    "from IPython.display import display_latex"
   ]
  },
  {
   "cell_type": "markdown",
   "metadata": {},
   "source": [
    "## Unconstrained case"
   ]
  },
  {
   "cell_type": "markdown",
   "metadata": {},
   "source": [
    "Now, let us define the symbols that we will work with.\n",
    "We have the system parameters:\n",
    "\n",
    "- $m_1$, `mass_1`: mass of the helicopter itself\n",
    "- $m_2$, `mass_2`: mass being lifted by the helicopter\n",
    "- $L$, `L`: length of the lnik between the masses\n",
    "- $g$, `g`: gravitational acceleration\n",
    "- $u$, `force`: external force affecting the helicopter\n",
    "\n",
    "Additionally, there's the position and angles that will go into the generalized coordinates, \n",
    "as well as their first and second derivatives in time:\n",
    "\n",
    "- $p_1$, `point_mass_1`: position of the helicopter\n",
    "    - Consists of ${p_1}_1, {p_1}_2, {p_1}_3$\n",
    "    - $\\dot{p_1}$, `d_point_mass_1`: first time derivative\n",
    "    - $\\ddot{p_1}$, `dd_point_mass_1`: second time derivative\n",
    "- $\\alpha$, `angles`: angle\n",
    "    - Consists of $\\theta, \\phi$\n",
    "    - $\\dot{\\alpha}$, `d_angles`: first time derivative\n",
    "    - $\\ddot{\\alpha}$, `dd_angles`: second time derivative\n",
    "- $q$, `q`: generalized coordinates\n",
    "    - Consists of $p_1, \\alpha$\n",
    "    - $\\dot{q}$, `d_q`: first time derivative\n",
    "    - $\\ddot{q}$, `dd_q`: second time derivative"
   ]
  },
  {
   "cell_type": "code",
   "execution_count": 21,
   "metadata": {},
   "outputs": [],
   "source": [
    "mass_1, mass_2, L, g = sm.symbols(\"m_1 m_2 L g\")\n",
    "force = sm.Matrix(sm.symbols(\"u1 u2 u3\"))\n",
    "\n",
    "point_mass_1 = sm.Matrix(sm.symbols(\"{p_1}_1 {p_1}_2 {p_1}_3\"))\n",
    "d_point_mass_1 = sm.Matrix(sm.symbols(\"\\\\dot{p_1}_1 \\\\dot{p_1}_2 \\\\dot{p_1}_3\"))\n",
    "dd_point_mass_1 = sm.Matrix(sm.symbols(\"\\\\ddot{p_1}_1 \\\\ddot{p_1}_2 \\\\ddot{p_1}_3\"))\n",
    "\n",
    "angles = sm.Matrix(sm.symbols(\"{\\\\theta} {\\\\phi}\"))\n",
    "d_angles = sm.Matrix(sm.symbols(\"\\\\dot{\\\\theta} \\\\dot{\\\\phi}\"))\n",
    "dd_angles = sm.Matrix(sm.symbols(\"\\\\ddot{\\\\theta} \\\\ddot{\\\\phi}\"))\n",
    "\n",
    "q = sm.Matrix.vstack(point_mass_1, angles)\n",
    "d_q = sm.Matrix.vstack(d_point_mass_1, d_angles)\n",
    "dd_q = sm.Matrix.vstack(dd_point_mass_1, dd_angles)"
   ]
  },
  {
   "cell_type": "markdown",
   "metadata": {},
   "source": [
    "Here we come to the first tasks.\n",
    "Write the correct expressions for:\n",
    "\n",
    "- $p_2$, `point_mass_2`: position of the lifted mass\n",
    "- $\\dot{p_2}$, `d_point_mass_2`: first derivative of the lifted mass position\n",
    "- $Q$, `Q`: generalized forces in the system\n",
    "- $T$, `T`: kinetic energy of the system\n",
    "- $V$, `V`: potential energy of the system\n",
    "- $\\mathcal{L}$, `Lagrangian`: Lagrangian of the system\n",
    "\n",
    "> Tip: You may already have another way of doing this, \n",
    "> but a dot-product can be performed by writing `u.T @ v`. \n",
    "> If you do it like this, you may have to index `(u.T @ v)[0]` \n",
    "> to extract the scalar from the resulting `1x1`-matrix."
   ]
  },
  {
   "cell_type": "code",
   "execution_count": 22,
   "metadata": {},
   "outputs": [],
   "source": [
    "point_mass_2 = point_mass_1 + None\n",
    "\n",
    "d_point_mass_2 = sm.Matrix.jacobian(point_mass_2, q) @ d_q\n",
    "\n",
    "Q = None\n",
    "\n",
    "T = None\n",
    "T = sm.simplify(T)\n",
    "\n",
    "V = None\n",
    "\n",
    "Lagrangian = None"
   ]
  },
  {
   "cell_type": "markdown",
   "metadata": {},
   "source": [
    "After this, the following code should run and produce the correct derivatives of the Lagrangian.\n",
    "We use these to get expressions for:\n",
    "\n",
    "- $M(q)$, `M`: the model matrix of the system\n",
    "- $b(q, \\dot{q}, u)$, `b`: the righthand side of the model\n",
    "\n",
    "> Tip: If `sm.Matrix.jacobian` gives you an error, this may be due to one of the inputs not being of type `sm.Matrix`."
   ]
  },
  {
   "cell_type": "code",
   "execution_count": 27,
   "metadata": {},
   "outputs": [],
   "source": [
    "Lagrangian_q = sm.simplify(sm.Matrix.jacobian(Lagrangian, q)).T\n",
    "Lagrangian_qdq = sm.simplify(sm.Matrix.jacobian(Lagrangian_q.T, d_q))\n",
    "Lagrangian_dq = sm.simplify(sm.Matrix.jacobian(Lagrangian, d_q)).T\n",
    "Lagrangian_dqdq = sm.simplify(sm.Matrix.jacobian(Lagrangian_dq.T, d_q))\n",
    "\n",
    "M = Lagrangian_dqdq\n",
    "b = Q + sm.simplify(Lagrangian_q - Lagrangian_qdq @ d_q)"
   ]
  },
  {
   "cell_type": "markdown",
   "metadata": {},
   "source": [
    "## Constrained case"
   ]
  },
  {
   "cell_type": "markdown",
   "metadata": {},
   "source": [
    "In the constrained case, we use different parameters.\n",
    "We have the same system parameters as before:\n",
    "\n",
    "- $m_1$, `mass_1`: mass of the helicopter itself\n",
    "- $m_2$, `mass_2`: mass being lifted by the helicopter\n",
    "- $L$, `L`: length of the link between the masses\n",
    "- $g$, `g`: gravitational acceleration\n",
    "- $u$, `force`: external force affecting the helicopter\n",
    "\n",
    "However, we now use the positions of both the helicopter and the lifted mass and put a contstraint on the system:\n",
    "\n",
    "- $p_1$, `point_mass_1`: position of the helicopter\n",
    "    - Consists of ${p_1}_1, {p_1}_2, {p_1}_3$\n",
    "    - $\\dot{p_1}$, `d_point_mass_1`: first time derivative\n",
    "    - $\\ddot{p_1}$, `dd_point_mass_1`: second time derivative\n",
    "- $p_2$, `point_mass_2`: position of the lifted mass\n",
    "    - Consists of ${p_2}_1, {p_2}_2, {p_2}_3$\n",
    "    - $\\dot{p_2}$, `d_point_mass_2`: first time derivative\n",
    "    - $\\ddot{p_2}$, `dd_point_mass_2`: second time derivative\n",
    "- $q$, `q`: generalized coordinates\n",
    "    - Consists of $p_1, \\alpha$\n",
    "    - $\\dot{q}$, `d_q`: first time derivative\n",
    "    - $\\ddot{q}$, `dd_q`: second time derivative\n",
    "- $z$, `z`: algebraic variable for scaling the constraint properly"
   ]
  },
  {
   "cell_type": "code",
   "execution_count": 24,
   "metadata": {},
   "outputs": [],
   "source": [
    "mass_1, mass_2, L, g = sm.symbols(\"m_1 m_2 L g\")\n",
    "force = sm.Matrix(sm.symbols(\"u1 u2 u3\"))\n",
    "\n",
    "point_mass_1 = sm.Matrix(sm.symbols(\"{p_1}_1 {p_1}_2 {p_1}_3\"))\n",
    "d_point_mass_1 = sm.Matrix(sm.symbols(\"\\\\dot{p_1}_1 \\\\dot{p_1}_2 \\\\dot{p_1}_3\"))\n",
    "dd_point_mass_1 = sm.Matrix(sm.symbols(\"\\\\ddot{p_1}_1 \\\\ddot{p_1}_2 \\\\ddot{p_1}_3\"))\n",
    "\n",
    "point_mass_2 = sm.Matrix(sm.symbols(\"{p_2}_1 {p_2}_2 {p_2}_3\"))\n",
    "d_point_mass_2 = sm.Matrix(sm.symbols(\"\\\\dot{p_2}_1 \\\\dot{p_2}_2 \\\\dot{p_2}_3\"))\n",
    "dd_point_mass_2 = sm.Matrix(sm.symbols(\"\\\\ddot{p_2}_1 \\\\ddot{p_2}_2 \\\\ddot{p_2}_3\"))\n",
    "\n",
    "q = sm.Matrix.vstack(point_mass_1, point_mass_2)\n",
    "d_q = sm.Matrix.vstack(d_point_mass_1, d_point_mass_2)\n",
    "dd_q = sm.Matrix.vstack(dd_point_mass_1, dd_point_mass_2)\n",
    "\n",
    "z = sm.symbols(\"z\")"
   ]
  },
  {
   "cell_type": "markdown",
   "metadata": {},
   "source": [
    "Now for the tasks in this case.\n",
    "Write the correct expressions for:\n",
    "\n",
    "- $Q$, `Q`: generalized forces in the system\n",
    "- $T$, `T`: kinetic energy of the system\n",
    "- $V$, `V`: potential energy of the system\n",
    "- $e$, `e`: difference between the helicopter and the lifted mass, which should be constrained\n",
    "- $C$, `C`: scalar constraint of the link length\n",
    "- $\\mathcal{L}$, `Lagrangian`: Lagrangian of the system\n",
    "\n",
    "> Tip: You may already have another way of doing this, \n",
    "> but a dot-product can be performed by writing `u.T @ v`. \n",
    "> If you do it like this, you may have to index `(u.T @ v)[0]` \n",
    "> to extract the scalar from the resulting `1x1`-matrix."
   ]
  },
  {
   "cell_type": "code",
   "execution_count": 25,
   "metadata": {},
   "outputs": [],
   "source": [
    "Q = None\n",
    "T = None\n",
    "T = sm.simplify(T)\n",
    "\n",
    "V = None\n",
    "\n",
    "e = point_mass_1 - point_mass_2\n",
    "C = None\n",
    "\n",
    "Lagrangian = None"
   ]
  },
  {
   "cell_type": "markdown",
   "metadata": {},
   "source": [
    "Again, hopefully this code will just run if you've inputted appropriate expressions in the code above. Good luck."
   ]
  },
  {
   "cell_type": "code",
   "execution_count": 26,
   "metadata": {},
   "outputs": [],
   "source": [
    "Lagrangian_q = sm.simplify(sm.Matrix.jacobian(Lagrangian, q)).T\n",
    "Lagrangian_qdq = sm.simplify(sm.Matrix.jacobian(Lagrangian_q.T, d_q))\n",
    "Lagrangian_dq = sm.simplify(sm.Matrix.jacobian(Lagrangian, d_q)).T\n",
    "Lagrangian_dqdq = sm.simplify(sm.Matrix.jacobian(Lagrangian_dq.T, d_q))\n",
    "C_q = sm.simplify(sm.Matrix.jacobian(C, q)).T\n",
    "\n",
    "M = Lagrangian_dqdq\n",
    "b = None"
   ]
  }
 ],
 "metadata": {
  "kernelspec": {
   "display_name": "ttk4130.github.io-CQ4pw-6c",
   "language": "python",
   "name": "python3"
  },
  "language_info": {
   "codemirror_mode": {
    "name": "ipython",
    "version": 3
   },
   "file_extension": ".py",
   "mimetype": "text/x-python",
   "name": "python",
   "nbconvert_exporter": "python",
   "pygments_lexer": "ipython3",
   "version": "3.11.11"
  }
 },
 "nbformat": 4,
 "nbformat_minor": 2
}
