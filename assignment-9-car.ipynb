{
 "cells": [
  {
   "cell_type": "markdown",
   "metadata": {},
   "source": [
    "# Code handout - Assignment 9 - Simulation of the car model"
   ]
  },
  {
   "cell_type": "markdown",
   "metadata": {},
   "source": [
    "In this (optional) problem, you will implement the ordinary differential equation which defines the movement of the car you explored as a bond graph.\n",
    "You will implement the state equations you extracted from the bond graph in task 2f."
   ]
  },
  {
   "cell_type": "markdown",
   "metadata": {},
   "source": [
    "First, we import some of the libraries that might be useful."
   ]
  },
  {
   "cell_type": "code",
   "execution_count": null,
   "metadata": {},
   "outputs": [],
   "source": [
    "import numpy as np\n",
    "import scipy as sp\n",
    "import sympy as sm\n",
    "import matplotlib.pyplot as plt"
   ]
  },
  {
   "cell_type": "markdown",
   "metadata": {},
   "source": [
    "The linear friction coefficient of the clutch is a function of the clutch signal $u_C$.\n",
    "For simplicity, we will model the friction as\n",
    "\n",
    "$$\n",
    "R_C = R_{C, \\max} u_C\n",
    "$$\n",
    "\n",
    "and let the signal $u_C$ follow a ramp.\n",
    "This ramp will increase linearly from $0$ to $1$ on the time interval $[t_s, t_s + \\Delta t]$\n",
    "where $t_s$ is the start time of the ramping and $\\Delta t$ is the ramp duration.\n",
    "\n",
    "Below, we've  implemented such a function and vectorized it with numpy to allow it to work on whole arrays at a time."
   ]
  },
  {
   "cell_type": "code",
   "execution_count": null,
   "metadata": {},
   "outputs": [],
   "source": [
    "@np.vectorize\n",
    "def ramp(current_time, ramp_start_time, ramping_duration):\n",
    "    if current_time < ramp_start_time:\n",
    "        return 0.0\n",
    "    elif current_time <= ramp_start_time + ramping_duration:\n",
    "        return (current_time - ramp_start_time) / ramping_duration\n",
    "    else:\n",
    "        return 1.0"
   ]
  },
  {
   "cell_type": "markdown",
   "metadata": {},
   "source": [
    "We also try to plot the ramp for $t_s=0.2$ and $\\Delta t = 0.6$ in order to verify that the implementation makes sense.\n",
    "The ramp should start at $0.2$ and end at $0.8$."
   ]
  },
  {
   "cell_type": "code",
   "execution_count": null,
   "metadata": {},
   "outputs": [],
   "source": [
    "plt.plot(np.linspace(0, 1, num=101), ramp(np.linspace(0, 1, num=101), 0.2, 0.6))\n",
    "plt.title(\"Ramp starting at 0.2 and ending at 0.8\")"
   ]
  },
  {
   "cell_type": "markdown",
   "metadata": {},
   "source": [
    "## Setting up the parameters for the car\n",
    "\n",
    "We can define the parameters of the car with a Python dataclass.\n",
    "That way, we can pass around an instantiation as a \"configuration object\" of sorts,\n",
    "both to reduce the number of parameters each function must take, but also to ensure that all the vital parameters are set.\n",
    "If we passed around a dictionary, we'd ideally have to check if all the required parameters were present, but since the object _is_ an instantiation, it _must have_ all the parameters defined!\n",
    "\n",
    "Python dataclasses are more or less structs in C and implements some nice functions like `__init__` and `__repr__` which will let us write less boilerplate code and have a bigger focus on implementing the simulation."
   ]
  },
  {
   "cell_type": "code",
   "execution_count": null,
   "metadata": {},
   "outputs": [],
   "source": [
    "from dataclasses import dataclass\n",
    "\n",
    "@dataclass\n",
    "class CarParameters():\n",
    "    # Moments of inertia -- engine/clutch\n",
    "    J_E: float\n",
    "    J_G1: float\n",
    "    J_S: float\n",
    "    # Engine/clutch parameters\n",
    "    R_E: float\n",
    "    R_C: float\n",
    "    R_G1: float\n",
    "    R_G2: float\n",
    "    # Shaft deflection\n",
    "    R_shaft_deflection: float\n",
    "    C_shaft_deflection: float\n",
    "    # Axle parameters\n",
    "    N: float\n",
    "    J_R: float\n",
    "    J_L: float\n",
    "    R_R: float\n",
    "    R_L: float\n",
    "    # Tire/road friction\n",
    "    R_wr: float\n",
    "    R_wl: float\n",
    "    # Car parameters\n",
    "    mass: float\n",
    "    R_car: float\n",
    "    rw: float"
   ]
  },
  {
   "cell_type": "markdown",
   "metadata": {},
   "source": [
    "After defining the dataclass, we instantiate our car with the parameters from the assignment.\n",
    "Needless to say, there's a lot of them."
   ]
  },
  {
   "cell_type": "code",
   "execution_count": null,
   "metadata": {},
   "outputs": [],
   "source": [
    "car_params = CarParameters(\n",
    "    J_E = 10, J_G1 = 1, J_S = 2,\n",
    "    R_E = 0.2, R_C = 70, R_G1 = 0.12, R_G2 = 0.15,\n",
    "    R_shaft_deflection = 200, C_shaft_deflection = 1 / 5_000,\n",
    "    N = 0.18, J_R = 2, J_L = 2, R_R = 0.2, R_L = 0.2,\n",
    "    R_wr = 800, R_wl = 480,\n",
    "    mass = 2500, R_car = 6, rw = 0.37\n",
    ")"
   ]
  },
  {
   "cell_type": "markdown",
   "metadata": {},
   "source": [
    "## TODO: Implementing the state equations\n",
    "\n",
    "Here, we can write the code for the function $f$ in $\\dot{y} = f(t, y)$, so that we can simulate the behavior of the system.\n",
    "Our function will also take some extra inputs, like the car parameters and the torque- and clutch signals.\n",
    "\n",
    "If your bond graph is correct, there should be 6 states relevant to the system, and thus 6 state equations you have to implement.\n",
    "\n",
    "Good luck."
   ]
  },
  {
   "cell_type": "code",
   "execution_count": null,
   "metadata": {},
   "outputs": [],
   "source": [
    "def ode(car: CarParameters, u_T, u_c, y):\n",
    "\n",
    "    omega_E = 0  #TODO: engine speed as function of states\n",
    "    torque_lim = 0 #TODO: expression for the engine torque limit as reported by General Motors\n",
    "    T_E = 0 #TODO: engine torque as given by torque signal u_T, described in equation in task 1a.\n",
    "\n",
    "    dydt = np.zeros_like(y)\n",
    "\n",
    "    return dydt"
   ]
  },
  {
   "cell_type": "markdown",
   "metadata": {},
   "source": [
    "## Simulation\n",
    "\n",
    "Now we can simulate the system, which we will do with a simple implementation of forward Euler."
   ]
  },
  {
   "cell_type": "code",
   "execution_count": null,
   "metadata": {},
   "outputs": [],
   "source": [
    "## Simulation parameters\n",
    "t0, tf = 0, 30\n",
    "h = 5e-4\n",
    "y_ic = np.zeros((6,))\n",
    "num_steps = int((tf - t0) / h) + 1\n",
    "\n",
    "## Clutch behavior parameters\n",
    "t_start_clutch = 10\n",
    "dt_clutch = 2\n",
    "\n",
    "ys = np.zeros((6, num_steps))\n",
    "ts = np.zeros((1, num_steps))\n",
    "ys[:, 0] = y_ic\n",
    "ts[0, 0] = 0\n",
    "\n",
    "## Controller parameters\n",
    "K_p = 5\n",
    "K_i = 0.6\n",
    "engine_speed_ref = 2000\n",
    "control_error = engine_speed_ref * (np.pi / 30) - ys[0, 0] / car_params.J_E\n",
    "integral_error = 0\n",
    "\n",
    "## Saving the control signals so we can look at them after \n",
    "# the simulation to see if they make sense.\n",
    "uts = []\n",
    "ucs = []\n",
    "\n",
    "for i in range(1, num_steps):\n",
    "    # Engine speed controller\n",
    "    u_T = control_error * K_p + integral_error * K_i\n",
    "    # Clutch control signal\n",
    "    ts[:, i] = ts[:, i-1] + h\n",
    "    u_c = ramp(ts[0, i], t_start_clutch, dt_clutch)\n",
    "    uts.append(u_T)\n",
    "    ucs.append(u_c)\n",
    "    # Forward Euler step\n",
    "    ys[:, i] = ys[:, i-1] + h * ode(car_params, u_T, u_c, ys[:, i-1])\n",
    "\n",
    "    control_error = engine_speed_ref * (np.pi / 30) - ys[0, i] / car_params.J_E\n",
    "    integral_error = np.max([integral_error + control_error * h, 1.0])"
   ]
  },
  {
   "cell_type": "markdown",
   "metadata": {},
   "source": [
    "## Plotting the results\n",
    "\n",
    "The graphs shown here will of course depend on the order you put the states in the state vector.\n",
    "If you put them in the same sequence as us, the plots will make sense, if not, I'm sure you'll figure it out.\n",
    "\n",
    "Good luck."
   ]
  },
  {
   "cell_type": "code",
   "execution_count": null,
   "metadata": {},
   "outputs": [],
   "source": [
    "fig, (ax1, ax2, ax3) = plt.subplots(3, 1, figsize=(12,12))\n",
    "\n",
    "ax1.set_title(\"Engine speed (rpm)\")\n",
    "ax1.plot(ts[0, :], ys[0, :] * 60 / (2*np.pi) / car_params.J_E, label=\"Engine\")\n",
    "ax1.plot(ts[0, :], ys[1, :] * 60 / (2*np.pi) / car_params.J_G1, label=\"Gear (engine-side)\")\n",
    "\n",
    "ax2.set_title(\"Forward speed of the car (km/h)\")\n",
    "ax2.plot(ts[0, :], ys[5, :] * 3.6 / car_params.mass)\n",
    "\n",
    "ax3.set_title(\"Wheel speed (km/h)\")\n",
    "ax3.plot(ts[0, :], ys[3, :] * 3.6 * car_params.rw/car_params.J_R, label=\"Right\")\n",
    "ax3.plot(ts[0, :], ys[4, :] * 3.6 * car_params.rw/car_params.J_L, label=\"Left\")\n",
    "\n",
    "plt.show()\n",
    "\n",
    "plt.title(\"Deflection of drive shaft (rads)\")\n",
    "plt.plot(ts[0, :], ys[2, :])\n",
    "plt.show()"
   ]
  }
 ],
 "metadata": {
  "kernelspec": {
   "display_name": "ttk4130.github.io-CQ4pw-6c",
   "language": "python",
   "name": "python3"
  },
  "language_info": {
   "codemirror_mode": {
    "name": "ipython",
    "version": 3
   },
   "file_extension": ".py",
   "mimetype": "text/x-python",
   "name": "python",
   "nbconvert_exporter": "python",
   "pygments_lexer": "ipython3",
   "version": "3.11.11"
  }
 },
 "nbformat": 4,
 "nbformat_minor": 2
}
